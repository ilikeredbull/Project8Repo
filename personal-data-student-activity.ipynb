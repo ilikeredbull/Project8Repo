{
 "cells": [
  {
   "cell_type": "markdown",
   "id": "e4c3a401",
   "metadata": {},
   "source": [
    "# Working with personal data requests\n"
   ]
  },
  {
   "cell_type": "code",
   "execution_count": 91,
   "id": "59b581a3",
   "metadata": {},
   "outputs": [],
   "source": [
    "import pandas as pd\n",
    "import numpy as np\n",
    "import json\n",
    "import matplotlib.pyplot as plt"
   ]
  },
  {
   "cell_type": "markdown",
   "id": "d65ea541",
   "metadata": {},
   "source": [
    "### Your task\n",
    "\n",
    "Import your own personal data file (or better yet, several of them!). Extract just the timestamp data. Export this timestamp data as a CSV file and save it on your machine.\n",
    "\n",
    "\n",
    "### What if you have _other_ types of data?\n",
    "\n",
    "A summary of pandas input/output (I/O) tools is [here](https://pandas.pydata.org/docs/user_guide/io.html). Here are some things we can directly import:\n",
    "* CSVs\n",
    "* JSON\n",
    "* text (rtf, txt)\n",
    "* HTML\n",
    "* MS Excel\n",
    "* Pickle (Python file format)\n",
    "* Parquet\n",
    "* And many others...\n",
    "\n",
    "With HTML, you might want to parse it using Beautiful Soup.\n",
    "\n",
    "For PDFs, you might need to use a tool like [Tabula](https://pypi.org/project/tabula-py/) (a Java tool, which runs in a Python wrapper) to extract the text from the PDF into a table format. _(Note: To use it, I had to install/update Java, and then install the Tabula package! A bit annoying, but not too bad...)_ Once I did that, though, it was fairly easy to run.\n",
    "\n",
    "If you are having issues getting Tabula installed on your machine:\n",
    "* make sure you try following the installation instructions [here](https://pypi.org/project/tabula-py/)\n",
    "* you can also try running it in a Google Colab notebook, example [here](https://colab.research.google.com/github/chezou/tabula-py/blob/master/examples/tabula_example.ipynb)\n",
    "\n"
   ]
  },
  {
   "cell_type": "markdown",
   "id": "8a95b98e",
   "metadata": {},
   "source": [
    "# Part 1"
   ]
  },
  {
   "cell_type": "code",
   "execution_count": 51,
   "id": "311eabc7",
   "metadata": {},
   "outputs": [
    {
     "data": {
      "text/html": [
       "<div>\n",
       "<style scoped>\n",
       "    .dataframe tbody tr th:only-of-type {\n",
       "        vertical-align: middle;\n",
       "    }\n",
       "\n",
       "    .dataframe tbody tr th {\n",
       "        vertical-align: top;\n",
       "    }\n",
       "\n",
       "    .dataframe thead th {\n",
       "        text-align: right;\n",
       "    }\n",
       "</style>\n",
       "<table border=\"1\" class=\"dataframe\">\n",
       "  <thead>\n",
       "    <tr style=\"text-align: right;\">\n",
       "      <th></th>\n",
       "      <th>endTime</th>\n",
       "      <th>artistName</th>\n",
       "      <th>trackName</th>\n",
       "      <th>msPlayed</th>\n",
       "    </tr>\n",
       "  </thead>\n",
       "  <tbody>\n",
       "    <tr>\n",
       "      <th>0</th>\n",
       "      <td>2023-03-14 22:17</td>\n",
       "      <td>MIMI</td>\n",
       "      <td>Ai no Sukima</td>\n",
       "      <td>13200</td>\n",
       "    </tr>\n",
       "    <tr>\n",
       "      <th>1</th>\n",
       "      <td>2023-03-14 22:17</td>\n",
       "      <td>Volbeat</td>\n",
       "      <td>Ecotone</td>\n",
       "      <td>13250</td>\n",
       "    </tr>\n",
       "    <tr>\n",
       "      <th>2</th>\n",
       "      <td>2023-03-14 22:17</td>\n",
       "      <td>Anri</td>\n",
       "      <td>A HOPE FROM SAD STREET</td>\n",
       "      <td>870</td>\n",
       "    </tr>\n",
       "    <tr>\n",
       "      <th>3</th>\n",
       "      <td>2023-03-14 22:17</td>\n",
       "      <td>SQUARE ENIX MUSIC</td>\n",
       "      <td>Dispossession - Strings Ver.</td>\n",
       "      <td>1250</td>\n",
       "    </tr>\n",
       "    <tr>\n",
       "      <th>4</th>\n",
       "      <td>2023-03-14 22:17</td>\n",
       "      <td>Interlunium</td>\n",
       "      <td>Intergalactic Disco</td>\n",
       "      <td>1240</td>\n",
       "    </tr>\n",
       "    <tr>\n",
       "      <th>...</th>\n",
       "      <td>...</td>\n",
       "      <td>...</td>\n",
       "      <td>...</td>\n",
       "      <td>...</td>\n",
       "    </tr>\n",
       "    <tr>\n",
       "      <th>550</th>\n",
       "      <td>2023-03-15 21:50</td>\n",
       "      <td>Jolianne</td>\n",
       "      <td>Halfway There</td>\n",
       "      <td>1439</td>\n",
       "    </tr>\n",
       "    <tr>\n",
       "      <th>551</th>\n",
       "      <td>2023-03-15 21:50</td>\n",
       "      <td>Tevvez</td>\n",
       "      <td>Legend</td>\n",
       "      <td>835</td>\n",
       "    </tr>\n",
       "    <tr>\n",
       "      <th>552</th>\n",
       "      <td>2023-03-15 21:50</td>\n",
       "      <td>Slowbarry</td>\n",
       "      <td>Мёртвый Внутри</td>\n",
       "      <td>1137</td>\n",
       "    </tr>\n",
       "    <tr>\n",
       "      <th>553</th>\n",
       "      <td>2023-03-15 21:50</td>\n",
       "      <td>Elton John</td>\n",
       "      <td>Goodbye Yellow Brick Road - Remastered 2014</td>\n",
       "      <td>1811</td>\n",
       "    </tr>\n",
       "    <tr>\n",
       "      <th>554</th>\n",
       "      <td>2023-03-15 21:50</td>\n",
       "      <td>ItAllCanWait</td>\n",
       "      <td>Тейватский лесник</td>\n",
       "      <td>1230</td>\n",
       "    </tr>\n",
       "  </tbody>\n",
       "</table>\n",
       "<p>555 rows × 4 columns</p>\n",
       "</div>"
      ],
      "text/plain": [
       "              endTime         artistName  \\\n",
       "0    2023-03-14 22:17               MIMI   \n",
       "1    2023-03-14 22:17            Volbeat   \n",
       "2    2023-03-14 22:17               Anri   \n",
       "3    2023-03-14 22:17  SQUARE ENIX MUSIC   \n",
       "4    2023-03-14 22:17        Interlunium   \n",
       "..                ...                ...   \n",
       "550  2023-03-15 21:50           Jolianne   \n",
       "551  2023-03-15 21:50             Tevvez   \n",
       "552  2023-03-15 21:50          Slowbarry   \n",
       "553  2023-03-15 21:50         Elton John   \n",
       "554  2023-03-15 21:50       ItAllCanWait   \n",
       "\n",
       "                                       trackName  msPlayed  \n",
       "0                                   Ai no Sukima     13200  \n",
       "1                                        Ecotone     13250  \n",
       "2                         A HOPE FROM SAD STREET       870  \n",
       "3                   Dispossession - Strings Ver.      1250  \n",
       "4                            Intergalactic Disco      1240  \n",
       "..                                           ...       ...  \n",
       "550                                Halfway There      1439  \n",
       "551                                       Legend       835  \n",
       "552                               Мёртвый Внутри      1137  \n",
       "553  Goodbye Yellow Brick Road - Remastered 2014      1811  \n",
       "554                            Тейватский лесник      1230  \n",
       "\n",
       "[555 rows x 4 columns]"
      ]
     },
     "execution_count": 51,
     "metadata": {},
     "output_type": "execute_result"
    }
   ],
   "source": [
    "with open('StreamingHistory5.json', 'r', encoding='utf-8') as f:\n",
    "    data = json.load(f)\n",
    "    \n",
    "dfC = pd.json_normalize(data)\n",
    "\n",
    "dfC.to_csv('StreamingHistory5.csv', index=False)\n",
    "dfC"
   ]
  },
  {
   "cell_type": "code",
   "execution_count": 53,
   "id": "3aeb0299",
   "metadata": {},
   "outputs": [
    {
     "data": {
      "text/html": [
       "<div>\n",
       "<style scoped>\n",
       "    .dataframe tbody tr th:only-of-type {\n",
       "        vertical-align: middle;\n",
       "    }\n",
       "\n",
       "    .dataframe tbody tr th {\n",
       "        vertical-align: top;\n",
       "    }\n",
       "\n",
       "    .dataframe thead th {\n",
       "        text-align: right;\n",
       "    }\n",
       "</style>\n",
       "<table border=\"1\" class=\"dataframe\">\n",
       "  <thead>\n",
       "    <tr style=\"text-align: right;\">\n",
       "      <th></th>\n",
       "      <th>endTime</th>\n",
       "    </tr>\n",
       "  </thead>\n",
       "  <tbody>\n",
       "    <tr>\n",
       "      <th>0</th>\n",
       "      <td>2023-03-14 22:17</td>\n",
       "    </tr>\n",
       "    <tr>\n",
       "      <th>1</th>\n",
       "      <td>2023-03-14 22:17</td>\n",
       "    </tr>\n",
       "    <tr>\n",
       "      <th>2</th>\n",
       "      <td>2023-03-14 22:17</td>\n",
       "    </tr>\n",
       "    <tr>\n",
       "      <th>3</th>\n",
       "      <td>2023-03-14 22:17</td>\n",
       "    </tr>\n",
       "    <tr>\n",
       "      <th>4</th>\n",
       "      <td>2023-03-14 22:17</td>\n",
       "    </tr>\n",
       "    <tr>\n",
       "      <th>...</th>\n",
       "      <td>...</td>\n",
       "    </tr>\n",
       "    <tr>\n",
       "      <th>550</th>\n",
       "      <td>2023-03-15 21:50</td>\n",
       "    </tr>\n",
       "    <tr>\n",
       "      <th>551</th>\n",
       "      <td>2023-03-15 21:50</td>\n",
       "    </tr>\n",
       "    <tr>\n",
       "      <th>552</th>\n",
       "      <td>2023-03-15 21:50</td>\n",
       "    </tr>\n",
       "    <tr>\n",
       "      <th>553</th>\n",
       "      <td>2023-03-15 21:50</td>\n",
       "    </tr>\n",
       "    <tr>\n",
       "      <th>554</th>\n",
       "      <td>2023-03-15 21:50</td>\n",
       "    </tr>\n",
       "  </tbody>\n",
       "</table>\n",
       "<p>555 rows × 1 columns</p>\n",
       "</div>"
      ],
      "text/plain": [
       "              endTime\n",
       "0    2023-03-14 22:17\n",
       "1    2023-03-14 22:17\n",
       "2    2023-03-14 22:17\n",
       "3    2023-03-14 22:17\n",
       "4    2023-03-14 22:17\n",
       "..                ...\n",
       "550  2023-03-15 21:50\n",
       "551  2023-03-15 21:50\n",
       "552  2023-03-15 21:50\n",
       "553  2023-03-15 21:50\n",
       "554  2023-03-15 21:50\n",
       "\n",
       "[555 rows x 1 columns]"
      ]
     },
     "execution_count": 53,
     "metadata": {},
     "output_type": "execute_result"
    }
   ],
   "source": [
    "df_timeStampC = dfC[['endTime']]\n",
    "df_timeStampC"
   ]
  },
  {
   "cell_type": "markdown",
   "id": "63445631",
   "metadata": {},
   "source": [
    "# Part 2"
   ]
  },
  {
   "cell_type": "code",
   "execution_count": 55,
   "id": "2176bfe8",
   "metadata": {},
   "outputs": [],
   "source": [
    "file_path = (\"~/Downloads/data.csv\")\n",
    "df_timeStampC.to_csv(file_path, index=False)"
   ]
  },
  {
   "cell_type": "code",
   "execution_count": 127,
   "id": "a7485085",
   "metadata": {},
   "outputs": [],
   "source": [
    "df = pd.read_csv('Hayden.csv')"
   ]
  },
  {
   "cell_type": "code",
   "execution_count": 76,
   "id": "901b4876",
   "metadata": {},
   "outputs": [
    {
     "name": "stderr",
     "output_type": "stream",
     "text": [
      "/tmp/ipykernel_381285/4190435708.py:2: SettingWithCopyWarning: \n",
      "A value is trying to be set on a copy of a slice from a DataFrame\n",
      "\n",
      "See the caveats in the documentation: https://pandas.pydata.org/pandas-docs/stable/user_guide/indexing.html#returning-a-view-versus-a-copy\n",
      "  df_timeStamp.sort_values('timestamp', inplace=True)\n"
     ]
    }
   ],
   "source": [
    "df_timeStamp = df[['timestamp']]\n",
    "df_timeStamp.sort_values('timestamp', inplace=True)\n"
   ]
  },
  {
   "cell_type": "code",
   "execution_count": 77,
   "id": "f67d139a",
   "metadata": {
    "scrolled": false
   },
   "outputs": [
    {
     "name": "stderr",
     "output_type": "stream",
     "text": [
      "/tmp/ipykernel_381285/1174293504.py:1: SettingWithCopyWarning: \n",
      "A value is trying to be set on a copy of a slice from a DataFrame.\n",
      "Try using .loc[row_indexer,col_indexer] = value instead\n",
      "\n",
      "See the caveats in the documentation: https://pandas.pydata.org/pandas-docs/stable/user_guide/indexing.html#returning-a-view-versus-a-copy\n",
      "  df_timeStamp['timestamp'] = pd.to_datetime(df_timeStamp['timestamp'], utc=True)\n",
      "/tmp/ipykernel_381285/1174293504.py:4: SettingWithCopyWarning: \n",
      "A value is trying to be set on a copy of a slice from a DataFrame.\n",
      "Try using .loc[row_indexer,col_indexer] = value instead\n",
      "\n",
      "See the caveats in the documentation: https://pandas.pydata.org/pandas-docs/stable/user_guide/indexing.html#returning-a-view-versus-a-copy\n",
      "  df_timeStamp['time_diff'] = df_timeStamp['timestamp'].diff()\n"
     ]
    },
    {
     "data": {
      "text/html": [
       "<div>\n",
       "<style scoped>\n",
       "    .dataframe tbody tr th:only-of-type {\n",
       "        vertical-align: middle;\n",
       "    }\n",
       "\n",
       "    .dataframe tbody tr th {\n",
       "        vertical-align: top;\n",
       "    }\n",
       "\n",
       "    .dataframe thead th {\n",
       "        text-align: right;\n",
       "    }\n",
       "</style>\n",
       "<table border=\"1\" class=\"dataframe\">\n",
       "  <thead>\n",
       "    <tr style=\"text-align: right;\">\n",
       "      <th></th>\n",
       "      <th>timestamp</th>\n",
       "      <th>time_diff</th>\n",
       "    </tr>\n",
       "  </thead>\n",
       "  <tbody>\n",
       "    <tr>\n",
       "      <th>38799</th>\n",
       "      <td>2022-06-26 05:47:10+00:00</td>\n",
       "      <td>NaT</td>\n",
       "    </tr>\n",
       "    <tr>\n",
       "      <th>38798</th>\n",
       "      <td>2022-06-26 05:48:04+00:00</td>\n",
       "      <td>0 days 00:00:54</td>\n",
       "    </tr>\n",
       "    <tr>\n",
       "      <th>38797</th>\n",
       "      <td>2022-06-26 05:48:48+00:00</td>\n",
       "      <td>0 days 00:00:44</td>\n",
       "    </tr>\n",
       "    <tr>\n",
       "      <th>38796</th>\n",
       "      <td>2022-06-26 05:49:56+00:00</td>\n",
       "      <td>0 days 00:01:08</td>\n",
       "    </tr>\n",
       "    <tr>\n",
       "      <th>38795</th>\n",
       "      <td>2022-06-26 05:50:00+00:00</td>\n",
       "      <td>0 days 00:00:04</td>\n",
       "    </tr>\n",
       "    <tr>\n",
       "      <th>...</th>\n",
       "      <td>...</td>\n",
       "      <td>...</td>\n",
       "    </tr>\n",
       "    <tr>\n",
       "      <th>4</th>\n",
       "      <td>2023-04-04 16:32:21+00:00</td>\n",
       "      <td>0 days 00:00:10</td>\n",
       "    </tr>\n",
       "    <tr>\n",
       "      <th>3</th>\n",
       "      <td>2023-04-04 16:34:10+00:00</td>\n",
       "      <td>0 days 00:01:49</td>\n",
       "    </tr>\n",
       "    <tr>\n",
       "      <th>2</th>\n",
       "      <td>2023-04-04 16:35:12+00:00</td>\n",
       "      <td>0 days 00:01:02</td>\n",
       "    </tr>\n",
       "    <tr>\n",
       "      <th>1</th>\n",
       "      <td>2023-04-04 16:35:59+00:00</td>\n",
       "      <td>0 days 00:00:47</td>\n",
       "    </tr>\n",
       "    <tr>\n",
       "      <th>0</th>\n",
       "      <td>2023-04-04 16:55:59+00:00</td>\n",
       "      <td>0 days 00:20:00</td>\n",
       "    </tr>\n",
       "  </tbody>\n",
       "</table>\n",
       "<p>38800 rows × 2 columns</p>\n",
       "</div>"
      ],
      "text/plain": [
       "                      timestamp       time_diff\n",
       "38799 2022-06-26 05:47:10+00:00             NaT\n",
       "38798 2022-06-26 05:48:04+00:00 0 days 00:00:54\n",
       "38797 2022-06-26 05:48:48+00:00 0 days 00:00:44\n",
       "38796 2022-06-26 05:49:56+00:00 0 days 00:01:08\n",
       "38795 2022-06-26 05:50:00+00:00 0 days 00:00:04\n",
       "...                         ...             ...\n",
       "4     2023-04-04 16:32:21+00:00 0 days 00:00:10\n",
       "3     2023-04-04 16:34:10+00:00 0 days 00:01:49\n",
       "2     2023-04-04 16:35:12+00:00 0 days 00:01:02\n",
       "1     2023-04-04 16:35:59+00:00 0 days 00:00:47\n",
       "0     2023-04-04 16:55:59+00:00 0 days 00:20:00\n",
       "\n",
       "[38800 rows x 2 columns]"
      ]
     },
     "execution_count": 77,
     "metadata": {},
     "output_type": "execute_result"
    }
   ],
   "source": [
    "\n",
    "\n",
    "df_timeStamp['timestamp'] = pd.to_datetime(df_timeStamp['timestamp'], utc=True)\n",
    "\n",
    "# Compute the time difference between consecutive timestamps\n",
    "df_timeStamp['time_diff'] = df_timeStamp['timestamp'].diff()\n",
    "\n",
    "# Print the DataFrame\n",
    "df_timeStamp"
   ]
  },
  {
   "cell_type": "code",
   "execution_count": 79,
   "id": "e38a47e5",
   "metadata": {},
   "outputs": [
    {
     "name": "stdout",
     "output_type": "stream",
     "text": [
      "timestamp    2022-11-06 01:02:28+00:00\n",
      "time_diff              0 days 18:01:51\n",
      "Name: 19097, dtype: object\n"
     ]
    }
   ],
   "source": [
    "max_idx = df_timeStamp['time_diff'].idxmax()\n",
    "max_row = df_timeStamp.loc[max_idx]\n",
    "print(max_row)"
   ]
  },
  {
   "cell_type": "code",
   "execution_count": 61,
   "id": "4b70d691",
   "metadata": {},
   "outputs": [],
   "source": [
    "#longest time between timestamps is 18:01:51"
   ]
  },
  {
   "cell_type": "code",
   "execution_count": 80,
   "id": "278a35e4",
   "metadata": {},
   "outputs": [
    {
     "data": {
      "text/plain": [
       "Timedelta('0 days 00:10:29.009227041')"
      ]
     },
     "execution_count": 80,
     "metadata": {},
     "output_type": "execute_result"
    }
   ],
   "source": [
    "time_diff = df_timeStamp['timestamp'].diff()\n",
    "\n",
    "# calculate the mean time difference\n",
    "mean_time_diff = time_diff.mean()\n",
    "mean_time_diff"
   ]
  },
  {
   "cell_type": "code",
   "execution_count": 63,
   "id": "960a0775",
   "metadata": {},
   "outputs": [],
   "source": [
    "# average of ~10 minutes 30 seconds between timestamps"
   ]
  },
  {
   "cell_type": "code",
   "execution_count": 82,
   "id": "5f6fdb90",
   "metadata": {},
   "outputs": [
    {
     "name": "stderr",
     "output_type": "stream",
     "text": [
      "/tmp/ipykernel_381285/2066841223.py:1: SettingWithCopyWarning: \n",
      "A value is trying to be set on a copy of a slice from a DataFrame.\n",
      "Try using .loc[row_indexer,col_indexer] = value instead\n",
      "\n",
      "See the caveats in the documentation: https://pandas.pydata.org/pandas-docs/stable/user_guide/indexing.html#returning-a-view-versus-a-copy\n",
      "  df_timeStamp['date'] = df_timeStamp['timestamp'].dt.date\n"
     ]
    },
    {
     "data": {
      "text/plain": [
       "datetime.date(2022, 6, 28)"
      ]
     },
     "execution_count": 82,
     "metadata": {},
     "output_type": "execute_result"
    }
   ],
   "source": [
    "df_timeStamp['date'] = df_timeStamp['timestamp'].dt.date\n",
    "\n",
    "# Group the data by date and count the number of timestamps for each date\n",
    "date_counts = df_timeStamp.groupby('date').size().reset_index(name='count')\n",
    "\n",
    "# Sort the data in descending order by the count of timestamps\n",
    "date_counts = date_counts.sort_values(by='count', ascending=False)\n",
    "\n",
    "# Take the first row to get the date with the most timestamps\n",
    "most_timestamps_date = date_counts.iloc[0]['date']\n",
    "\n",
    "most_timestamps_date"
   ]
  },
  {
   "cell_type": "code",
   "execution_count": 83,
   "id": "a1650abd",
   "metadata": {},
   "outputs": [],
   "source": [
    "#the day with the most timestamps is june 28th 2022"
   ]
  },
  {
   "cell_type": "code",
   "execution_count": 84,
   "id": "e6b61e3e",
   "metadata": {},
   "outputs": [
    {
     "name": "stderr",
     "output_type": "stream",
     "text": [
      "/tmp/ipykernel_381285/671398508.py:1: SettingWithCopyWarning: \n",
      "A value is trying to be set on a copy of a slice from a DataFrame.\n",
      "Try using .loc[row_indexer,col_indexer] = value instead\n",
      "\n",
      "See the caveats in the documentation: https://pandas.pydata.org/pandas-docs/stable/user_guide/indexing.html#returning-a-view-versus-a-copy\n",
      "  df_timeStamp['month'] = df_timeStamp['timestamp'].dt.month\n"
     ]
    },
    {
     "data": {
      "text/plain": [
       "7"
      ]
     },
     "execution_count": 84,
     "metadata": {},
     "output_type": "execute_result"
    }
   ],
   "source": [
    "df_timeStamp['month'] = df_timeStamp['timestamp'].dt.month\n",
    "\n",
    "# Count the occurrences of each month\n",
    "month_counts = df_timeStamp['month'].value_counts()\n",
    "\n",
    "# Get the month with the highest count\n",
    "most_common_month = month_counts.index[0]\n",
    "\n",
    "most_common_month"
   ]
  },
  {
   "cell_type": "code",
   "execution_count": 85,
   "id": "25ffe1ec",
   "metadata": {},
   "outputs": [],
   "source": [
    "#July is the most common month"
   ]
  },
  {
   "cell_type": "code",
   "execution_count": 86,
   "id": "2a7963f1",
   "metadata": {},
   "outputs": [],
   "source": [
    "#I think this data is from Youtube watch history. The timestamps are\n",
    "#too far apart to be music, unless Hayden listens to music infrequently.\n",
    "#the amount of instances, 38000, seems possible for youtube videos\n",
    "# watched in a year.\n",
    "\n",
    "#Titles would be helpful in determining the source of the data because\n",
    "#different types of media follow certain titling patterns."
   ]
  },
  {
   "cell_type": "code",
   "execution_count": 87,
   "id": "7672bb36",
   "metadata": {},
   "outputs": [],
   "source": [
    "#My partners analysis seems accurate. They guessed the correct data\n",
    "#source as Spotify."
   ]
  },
  {
   "cell_type": "code",
   "execution_count": 88,
   "id": "d94085d5",
   "metadata": {},
   "outputs": [],
   "source": [
    "#The titles would be helpful in determining what was happening on the\n",
    "#days with the most timestamps because maybe the person was watching\n",
    "#a series on youtube, or studying for an exam through youtube tutors."
   ]
  },
  {
   "cell_type": "code",
   "execution_count": 89,
   "id": "cfdccf54",
   "metadata": {},
   "outputs": [],
   "source": [
    "#I learned that my partner watches a lot of youtube, like me! \n",
    "#I also learned that my partner and I watch similar videos."
   ]
  },
  {
   "cell_type": "markdown",
   "id": "cd14c39a",
   "metadata": {},
   "source": [
    "# Part 3"
   ]
  },
  {
   "cell_type": "code",
   "execution_count": 134,
   "id": "3792cd93",
   "metadata": {},
   "outputs": [
    {
     "name": "stderr",
     "output_type": "stream",
     "text": [
      "/tmp/ipykernel_381285/1559057003.py:2: SettingWithCopyWarning: \n",
      "A value is trying to be set on a copy of a slice from a DataFrame.\n",
      "Try using .loc[row_indexer,col_indexer] = value instead\n",
      "\n",
      "See the caveats in the documentation: https://pandas.pydata.org/pandas-docs/stable/user_guide/indexing.html#returning-a-view-versus-a-copy\n",
      "  df_timeStamp['timestamp2'] = df_Cameron['endTime']\n"
     ]
    }
   ],
   "source": [
    "df_Cameron = pd.read_csv('data.csv')\n",
    "df_timeStamp['timestamp2'] = df_Cameron['endTime']"
   ]
  },
  {
   "cell_type": "code",
   "execution_count": 137,
   "id": "c4dda348",
   "metadata": {},
   "outputs": [
    {
     "name": "stderr",
     "output_type": "stream",
     "text": [
      "/tmp/ipykernel_381285/2633468457.py:1: SettingWithCopyWarning: \n",
      "A value is trying to be set on a copy of a slice from a DataFrame.\n",
      "Try using .loc[row_indexer,col_indexer] = value instead\n",
      "\n",
      "See the caveats in the documentation: https://pandas.pydata.org/pandas-docs/stable/user_guide/indexing.html#returning-a-view-versus-a-copy\n",
      "  df_timeStamp['timestamp2'] = pd.to_datetime(df_timeStamp['timestamp2'])\n"
     ]
    },
    {
     "data": {
      "image/png": "[encoded data removed]",
      "text/plain": [
       "<Figure size 432x288 with 1 Axes>"
      ]
     },
     "metadata": {
      "needs_background": "light"
     },
     "output_type": "display_data"
    }
   ],
   "source": [
    "df_timeStamp['timestamp2'] = pd.to_datetime(df_timeStamp['timestamp2'])\n",
    "\n",
    "plt.scatter(df_timeStamp['timestamp2'], df_timeStamp['timestamp'])\n",
    "plt.show()"
   ]
  }
 ],
 "metadata": {
  "kernelspec": {
   "display_name": "Python 3 (ipykernel)",
   "language": "python",
   "name": "python3"
  },
  "language_info": {
   "codemirror_mode": {
    "name": "ipython",
    "version": 3
   },
   "file_extension": ".py",
   "mimetype": "text/x-python",
   "name": "python",
   "nbconvert_exporter": "python",
   "pygments_lexer": "ipython3",
   "version": "3.8.10"
  }
 },
 "nbformat": 4,
 "nbformat_minor": 5
}
