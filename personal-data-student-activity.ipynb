{
 "cells": [
  {
   "cell_type": "markdown",
   "id": "e4c3a401",
   "metadata": {},
   "source": [
    "# Working with personal data requests\n"
   ]
  },
  {
   "cell_type": "code",
   "execution_count": 1,
   "id": "59b581a3",
   "metadata": {},
   "outputs": [],
   "source": [
    "import pandas as pd\n",
    "import numpy as np\n",
    "import json\n",
    "import matplotlib.pyplot as plt"
   ]
  },
  {
   "cell_type": "markdown",
   "id": "d65ea541",
   "metadata": {},
   "source": [
    "### Your task\n",
    "\n",
    "Import your own personal data file (or better yet, several of them!). Extract just the timestamp data. Export this timestamp data as a CSV file and save it on your machine.\n",
    "\n",
    "\n",
    "### What if you have _other_ types of data?\n",
    "\n",
    "A summary of pandas input/output (I/O) tools is [here](https://pandas.pydata.org/docs/user_guide/io.html). Here are some things we can directly import:\n",
    "* CSVs\n",
    "* JSON\n",
    "* text (rtf, txt)\n",
    "* HTML\n",
    "* MS Excel\n",
    "* Pickle (Python file format)\n",
    "* Parquet\n",
    "* And many others...\n",
    "\n",
    "With HTML, you might want to parse it using Beautiful Soup.\n",
    "\n",
    "For PDFs, you might need to use a tool like [Tabula](https://pypi.org/project/tabula-py/) (a Java tool, which runs in a Python wrapper) to extract the text from the PDF into a table format. _(Note: To use it, I had to install/update Java, and then install the Tabula package! A bit annoying, but not too bad...)_ Once I did that, though, it was fairly easy to run.\n",
    "\n",
    "If you are having issues getting Tabula installed on your machine:\n",
    "* make sure you try following the installation instructions [here](https://pypi.org/project/tabula-py/)\n",
    "* you can also try running it in a Google Colab notebook, example [here](https://colab.research.google.com/github/chezou/tabula-py/blob/master/examples/tabula_example.ipynb)\n",
    "\n"
   ]
  },
  {
   "cell_type": "markdown",
   "id": "8a95b98e",
   "metadata": {},
   "source": [
    "# Part 1"
   ]
  },
  {
   "cell_type": "code",
   "execution_count": 2,
   "id": "311eabc7",
   "metadata": {},
   "outputs": [
    {
     "data": {
      "text/html": [
       "<div>\n",
       "<style scoped>\n",
       "    .dataframe tbody tr th:only-of-type {\n",
       "        vertical-align: middle;\n",
       "    }\n",
       "\n",
       "    .dataframe tbody tr th {\n",
       "        vertical-align: top;\n",
       "    }\n",
       "\n",
       "    .dataframe thead th {\n",
       "        text-align: right;\n",
       "    }\n",
       "</style>\n",
       "<table border=\"1\" class=\"dataframe\">\n",
       "  <thead>\n",
       "    <tr style=\"text-align: right;\">\n",
       "      <th></th>\n",
       "      <th>endTime</th>\n",
       "      <th>artistName</th>\n",
       "      <th>trackName</th>\n",
       "      <th>msPlayed</th>\n",
       "    </tr>\n",
       "  </thead>\n",
       "  <tbody>\n",
       "    <tr>\n",
       "      <th>0</th>\n",
       "      <td>2023-03-14 22:17</td>\n",
       "      <td>MIMI</td>\n",
       "      <td>Ai no Sukima</td>\n",
       "      <td>13200</td>\n",
       "    </tr>\n",
       "    <tr>\n",
       "      <th>1</th>\n",
       "      <td>2023-03-14 22:17</td>\n",
       "      <td>Volbeat</td>\n",
       "      <td>Ecotone</td>\n",
       "      <td>13250</td>\n",
       "    </tr>\n",
       "    <tr>\n",
       "      <th>2</th>\n",
       "      <td>2023-03-14 22:17</td>\n",
       "      <td>Anri</td>\n",
       "      <td>A HOPE FROM SAD STREET</td>\n",
       "      <td>870</td>\n",
       "    </tr>\n",
       "    <tr>\n",
       "      <th>3</th>\n",
       "      <td>2023-03-14 22:17</td>\n",
       "      <td>SQUARE ENIX MUSIC</td>\n",
       "      <td>Dispossession - Strings Ver.</td>\n",
       "      <td>1250</td>\n",
       "    </tr>\n",
       "    <tr>\n",
       "      <th>4</th>\n",
       "      <td>2023-03-14 22:17</td>\n",
       "      <td>Interlunium</td>\n",
       "      <td>Intergalactic Disco</td>\n",
       "      <td>1240</td>\n",
       "    </tr>\n",
       "    <tr>\n",
       "      <th>...</th>\n",
       "      <td>...</td>\n",
       "      <td>...</td>\n",
       "      <td>...</td>\n",
       "      <td>...</td>\n",
       "    </tr>\n",
       "    <tr>\n",
       "      <th>550</th>\n",
       "      <td>2023-03-15 21:50</td>\n",
       "      <td>Jolianne</td>\n",
       "      <td>Halfway There</td>\n",
       "      <td>1439</td>\n",
       "    </tr>\n",
       "    <tr>\n",
       "      <th>551</th>\n",
       "      <td>2023-03-15 21:50</td>\n",
       "      <td>Tevvez</td>\n",
       "      <td>Legend</td>\n",
       "      <td>835</td>\n",
       "    </tr>\n",
       "    <tr>\n",
       "      <th>552</th>\n",
       "      <td>2023-03-15 21:50</td>\n",
       "      <td>Slowbarry</td>\n",
       "      <td>Мёртвый Внутри</td>\n",
       "      <td>1137</td>\n",
       "    </tr>\n",
       "    <tr>\n",
       "      <th>553</th>\n",
       "      <td>2023-03-15 21:50</td>\n",
       "      <td>Elton John</td>\n",
       "      <td>Goodbye Yellow Brick Road - Remastered 2014</td>\n",
       "      <td>1811</td>\n",
       "    </tr>\n",
       "    <tr>\n",
       "      <th>554</th>\n",
       "      <td>2023-03-15 21:50</td>\n",
       "      <td>ItAllCanWait</td>\n",
       "      <td>Тейватский лесник</td>\n",
       "      <td>1230</td>\n",
       "    </tr>\n",
       "  </tbody>\n",
       "</table>\n",
       "<p>555 rows × 4 columns</p>\n",
       "</div>"
      ],
      "text/plain": [
       "              endTime         artistName  \\\n",
       "0    2023-03-14 22:17               MIMI   \n",
       "1    2023-03-14 22:17            Volbeat   \n",
       "2    2023-03-14 22:17               Anri   \n",
       "3    2023-03-14 22:17  SQUARE ENIX MUSIC   \n",
       "4    2023-03-14 22:17        Interlunium   \n",
       "..                ...                ...   \n",
       "550  2023-03-15 21:50           Jolianne   \n",
       "551  2023-03-15 21:50             Tevvez   \n",
       "552  2023-03-15 21:50          Slowbarry   \n",
       "553  2023-03-15 21:50         Elton John   \n",
       "554  2023-03-15 21:50       ItAllCanWait   \n",
       "\n",
       "                                       trackName  msPlayed  \n",
       "0                                   Ai no Sukima     13200  \n",
       "1                                        Ecotone     13250  \n",
       "2                         A HOPE FROM SAD STREET       870  \n",
       "3                   Dispossession - Strings Ver.      1250  \n",
       "4                            Intergalactic Disco      1240  \n",
       "..                                           ...       ...  \n",
       "550                                Halfway There      1439  \n",
       "551                                       Legend       835  \n",
       "552                               Мёртвый Внутри      1137  \n",
       "553  Goodbye Yellow Brick Road - Remastered 2014      1811  \n",
       "554                            Тейватский лесник      1230  \n",
       "\n",
       "[555 rows x 4 columns]"
      ]
     },
     "execution_count": 2,
     "metadata": {},
     "output_type": "execute_result"
    }
   ],
   "source": [
    "with open('StreamingHistory5.json', 'r', encoding='utf-8') as f:\n",
    "    data = json.load(f)\n",
    "    \n",
    "dfC = pd.json_normalize(data)\n",
    "\n",
    "dfC.to_csv('StreamingHistory5.csv', index=False)\n",
    "dfC"
   ]
  },
  {
   "cell_type": "code",
   "execution_count": 3,
   "id": "3aeb0299",
   "metadata": {},
   "outputs": [
    {
     "data": {
      "text/html": [
       "<div>\n",
       "<style scoped>\n",
       "    .dataframe tbody tr th:only-of-type {\n",
       "        vertical-align: middle;\n",
       "    }\n",
       "\n",
       "    .dataframe tbody tr th {\n",
       "        vertical-align: top;\n",
       "    }\n",
       "\n",
       "    .dataframe thead th {\n",
       "        text-align: right;\n",
       "    }\n",
       "</style>\n",
       "<table border=\"1\" class=\"dataframe\">\n",
       "  <thead>\n",
       "    <tr style=\"text-align: right;\">\n",
       "      <th></th>\n",
       "      <th>endTime</th>\n",
       "    </tr>\n",
       "  </thead>\n",
       "  <tbody>\n",
       "    <tr>\n",
       "      <th>0</th>\n",
       "      <td>2023-03-14 22:17</td>\n",
       "    </tr>\n",
       "    <tr>\n",
       "      <th>1</th>\n",
       "      <td>2023-03-14 22:17</td>\n",
       "    </tr>\n",
       "    <tr>\n",
       "      <th>2</th>\n",
       "      <td>2023-03-14 22:17</td>\n",
       "    </tr>\n",
       "    <tr>\n",
       "      <th>3</th>\n",
       "      <td>2023-03-14 22:17</td>\n",
       "    </tr>\n",
       "    <tr>\n",
       "      <th>4</th>\n",
       "      <td>2023-03-14 22:17</td>\n",
       "    </tr>\n",
       "    <tr>\n",
       "      <th>...</th>\n",
       "      <td>...</td>\n",
       "    </tr>\n",
       "    <tr>\n",
       "      <th>550</th>\n",
       "      <td>2023-03-15 21:50</td>\n",
       "    </tr>\n",
       "    <tr>\n",
       "      <th>551</th>\n",
       "      <td>2023-03-15 21:50</td>\n",
       "    </tr>\n",
       "    <tr>\n",
       "      <th>552</th>\n",
       "      <td>2023-03-15 21:50</td>\n",
       "    </tr>\n",
       "    <tr>\n",
       "      <th>553</th>\n",
       "      <td>2023-03-15 21:50</td>\n",
       "    </tr>\n",
       "    <tr>\n",
       "      <th>554</th>\n",
       "      <td>2023-03-15 21:50</td>\n",
       "    </tr>\n",
       "  </tbody>\n",
       "</table>\n",
       "<p>555 rows × 1 columns</p>\n",
       "</div>"
      ],
      "text/plain": [
       "              endTime\n",
       "0    2023-03-14 22:17\n",
       "1    2023-03-14 22:17\n",
       "2    2023-03-14 22:17\n",
       "3    2023-03-14 22:17\n",
       "4    2023-03-14 22:17\n",
       "..                ...\n",
       "550  2023-03-15 21:50\n",
       "551  2023-03-15 21:50\n",
       "552  2023-03-15 21:50\n",
       "553  2023-03-15 21:50\n",
       "554  2023-03-15 21:50\n",
       "\n",
       "[555 rows x 1 columns]"
      ]
     },
     "execution_count": 3,
     "metadata": {},
     "output_type": "execute_result"
    }
   ],
   "source": [
    "df_timeStampC = dfC[['endTime']]\n",
    "df_timeStampC"
   ]
  },
  {
   "cell_type": "markdown",
   "id": "63445631",
   "metadata": {},
   "source": [
    "# Part 2"
   ]
  },
  {
   "cell_type": "code",
   "execution_count": 4,
   "id": "2176bfe8",
   "metadata": {},
   "outputs": [],
   "source": [
    "file_path = (\"~/Downloads/data.csv\")\n",
    "df_timeStampC.to_csv(file_path, index=False)"
   ]
  },
  {
   "cell_type": "code",
   "execution_count": 5,
   "id": "a7485085",
   "metadata": {},
   "outputs": [],
   "source": [
    "df = pd.read_csv('Hayden.csv')"
   ]
  },
  {
   "cell_type": "code",
   "execution_count": 6,
   "id": "901b4876",
   "metadata": {},
   "outputs": [
    {
     "name": "stderr",
     "output_type": "stream",
     "text": [
      "/tmp/ipykernel_25720/4190435708.py:2: SettingWithCopyWarning: \n",
      "A value is trying to be set on a copy of a slice from a DataFrame\n",
      "\n",
      "See the caveats in the documentation: https://pandas.pydata.org/pandas-docs/stable/user_guide/indexing.html#returning-a-view-versus-a-copy\n",
      "  df_timeStamp.sort_values('timestamp', inplace=True)\n"
     ]
    }
   ],
   "source": [
    "df_timeStamp = df[['timestamp']]\n",
    "df_timeStamp.sort_values('timestamp', inplace=True)\n"
   ]
  },
  {
   "cell_type": "code",
   "execution_count": 7,
   "id": "f67d139a",
   "metadata": {
    "scrolled": false
   },
   "outputs": [
    {
     "name": "stderr",
     "output_type": "stream",
     "text": [
      "/tmp/ipykernel_25720/813121817.py:1: SettingWithCopyWarning: \n",
      "A value is trying to be set on a copy of a slice from a DataFrame.\n",
      "Try using .loc[row_indexer,col_indexer] = value instead\n",
      "\n",
      "See the caveats in the documentation: https://pandas.pydata.org/pandas-docs/stable/user_guide/indexing.html#returning-a-view-versus-a-copy\n",
      "  df_timeStamp['timestamp'] = pd.to_datetime(df_timeStamp['timestamp'], utc=True)\n",
      "/tmp/ipykernel_25720/813121817.py:3: SettingWithCopyWarning: \n",
      "A value is trying to be set on a copy of a slice from a DataFrame.\n",
      "Try using .loc[row_indexer,col_indexer] = value instead\n",
      "\n",
      "See the caveats in the documentation: https://pandas.pydata.org/pandas-docs/stable/user_guide/indexing.html#returning-a-view-versus-a-copy\n",
      "  df_timeStamp['time_diff'] = df_timeStamp['timestamp'].diff()\n"
     ]
    },
    {
     "data": {
      "text/html": [
       "<div>\n",
       "<style scoped>\n",
       "    .dataframe tbody tr th:only-of-type {\n",
       "        vertical-align: middle;\n",
       "    }\n",
       "\n",
       "    .dataframe tbody tr th {\n",
       "        vertical-align: top;\n",
       "    }\n",
       "\n",
       "    .dataframe thead th {\n",
       "        text-align: right;\n",
       "    }\n",
       "</style>\n",
       "<table border=\"1\" class=\"dataframe\">\n",
       "  <thead>\n",
       "    <tr style=\"text-align: right;\">\n",
       "      <th></th>\n",
       "      <th>timestamp</th>\n",
       "      <th>time_diff</th>\n",
       "    </tr>\n",
       "  </thead>\n",
       "  <tbody>\n",
       "    <tr>\n",
       "      <th>38799</th>\n",
       "      <td>2022-06-26 05:47:10+00:00</td>\n",
       "      <td>NaT</td>\n",
       "    </tr>\n",
       "    <tr>\n",
       "      <th>38798</th>\n",
       "      <td>2022-06-26 05:48:04+00:00</td>\n",
       "      <td>0 days 00:00:54</td>\n",
       "    </tr>\n",
       "    <tr>\n",
       "      <th>38797</th>\n",
       "      <td>2022-06-26 05:48:48+00:00</td>\n",
       "      <td>0 days 00:00:44</td>\n",
       "    </tr>\n",
       "    <tr>\n",
       "      <th>38796</th>\n",
       "      <td>2022-06-26 05:49:56+00:00</td>\n",
       "      <td>0 days 00:01:08</td>\n",
       "    </tr>\n",
       "    <tr>\n",
       "      <th>38795</th>\n",
       "      <td>2022-06-26 05:50:00+00:00</td>\n",
       "      <td>0 days 00:00:04</td>\n",
       "    </tr>\n",
       "    <tr>\n",
       "      <th>...</th>\n",
       "      <td>...</td>\n",
       "      <td>...</td>\n",
       "    </tr>\n",
       "    <tr>\n",
       "      <th>4</th>\n",
       "      <td>2023-04-04 16:32:21+00:00</td>\n",
       "      <td>0 days 00:00:10</td>\n",
       "    </tr>\n",
       "    <tr>\n",
       "      <th>3</th>\n",
       "      <td>2023-04-04 16:34:10+00:00</td>\n",
       "      <td>0 days 00:01:49</td>\n",
       "    </tr>\n",
       "    <tr>\n",
       "      <th>2</th>\n",
       "      <td>2023-04-04 16:35:12+00:00</td>\n",
       "      <td>0 days 00:01:02</td>\n",
       "    </tr>\n",
       "    <tr>\n",
       "      <th>1</th>\n",
       "      <td>2023-04-04 16:35:59+00:00</td>\n",
       "      <td>0 days 00:00:47</td>\n",
       "    </tr>\n",
       "    <tr>\n",
       "      <th>0</th>\n",
       "      <td>2023-04-04 16:55:59+00:00</td>\n",
       "      <td>0 days 00:20:00</td>\n",
       "    </tr>\n",
       "  </tbody>\n",
       "</table>\n",
       "<p>38800 rows × 2 columns</p>\n",
       "</div>"
      ],
      "text/plain": [
       "                      timestamp       time_diff\n",
       "38799 2022-06-26 05:47:10+00:00             NaT\n",
       "38798 2022-06-26 05:48:04+00:00 0 days 00:00:54\n",
       "38797 2022-06-26 05:48:48+00:00 0 days 00:00:44\n",
       "38796 2022-06-26 05:49:56+00:00 0 days 00:01:08\n",
       "38795 2022-06-26 05:50:00+00:00 0 days 00:00:04\n",
       "...                         ...             ...\n",
       "4     2023-04-04 16:32:21+00:00 0 days 00:00:10\n",
       "3     2023-04-04 16:34:10+00:00 0 days 00:01:49\n",
       "2     2023-04-04 16:35:12+00:00 0 days 00:01:02\n",
       "1     2023-04-04 16:35:59+00:00 0 days 00:00:47\n",
       "0     2023-04-04 16:55:59+00:00 0 days 00:20:00\n",
       "\n",
       "[38800 rows x 2 columns]"
      ]
     },
     "execution_count": 7,
     "metadata": {},
     "output_type": "execute_result"
    }
   ],
   "source": [
    "\n",
    "\n",
    "df_timeStamp['timestamp'] = pd.to_datetime(df_timeStamp['timestamp'], utc=True)\n",
    "\n",
    "df_timeStamp['time_diff'] = df_timeStamp['timestamp'].diff()\n",
    "\n",
    "df_timeStamp"
   ]
  },
  {
   "cell_type": "code",
   "execution_count": 8,
   "id": "e38a47e5",
   "metadata": {},
   "outputs": [
    {
     "name": "stdout",
     "output_type": "stream",
     "text": [
      "timestamp    2022-11-06 01:02:28+00:00\n",
      "time_diff              0 days 18:01:51\n",
      "Name: 19097, dtype: object\n"
     ]
    }
   ],
   "source": [
    "max_idx = df_timeStamp['time_diff'].idxmax()\n",
    "max_row = df_timeStamp.loc[max_idx]\n",
    "print(max_row)"
   ]
  },
  {
   "cell_type": "code",
   "execution_count": 9,
   "id": "4b70d691",
   "metadata": {},
   "outputs": [],
   "source": [
    "#longest time between timestamps is 18:01:51"
   ]
  },
  {
   "cell_type": "code",
   "execution_count": 10,
   "id": "278a35e4",
   "metadata": {},
   "outputs": [
    {
     "data": {
      "text/plain": [
       "Timedelta('0 days 00:10:29.009227041')"
      ]
     },
     "execution_count": 10,
     "metadata": {},
     "output_type": "execute_result"
    }
   ],
   "source": [
    "time_diff = df_timeStamp['timestamp'].diff()\n",
    "\n",
    "# calculate the mean time difference\n",
    "mean_time_diff = time_diff.mean()\n",
    "mean_time_diff"
   ]
  },
  {
   "cell_type": "code",
   "execution_count": 11,
   "id": "960a0775",
   "metadata": {},
   "outputs": [],
   "source": [
    "# average of ~10 minutes 30 seconds between timestamps"
   ]
  },
  {
   "cell_type": "code",
   "execution_count": 12,
   "id": "5f6fdb90",
   "metadata": {},
   "outputs": [
    {
     "name": "stderr",
     "output_type": "stream",
     "text": [
      "/tmp/ipykernel_25720/1188860805.py:1: SettingWithCopyWarning: \n",
      "A value is trying to be set on a copy of a slice from a DataFrame.\n",
      "Try using .loc[row_indexer,col_indexer] = value instead\n",
      "\n",
      "See the caveats in the documentation: https://pandas.pydata.org/pandas-docs/stable/user_guide/indexing.html#returning-a-view-versus-a-copy\n",
      "  df_timeStamp['date'] = df_timeStamp['timestamp'].dt.date\n"
     ]
    },
    {
     "data": {
      "text/plain": [
       "datetime.date(2022, 6, 28)"
      ]
     },
     "execution_count": 12,
     "metadata": {},
     "output_type": "execute_result"
    }
   ],
   "source": [
    "df_timeStamp['date'] = df_timeStamp['timestamp'].dt.date\n",
    "\n",
    "date_counts = df_timeStamp.groupby('date').size().reset_index(name='count')\n",
    "\n",
    "date_counts = date_counts.sort_values(by='count', ascending=False)\n",
    "\n",
    "most_timestamps_date = date_counts.iloc[0]['date']\n",
    "\n",
    "most_timestamps_date"
   ]
  },
  {
   "cell_type": "code",
   "execution_count": 13,
   "id": "a1650abd",
   "metadata": {},
   "outputs": [],
   "source": [
    "#the day with the most timestamps is june 28th 2022"
   ]
  },
  {
   "cell_type": "code",
   "execution_count": 14,
   "id": "e6b61e3e",
   "metadata": {},
   "outputs": [
    {
     "name": "stderr",
     "output_type": "stream",
     "text": [
      "/tmp/ipykernel_25720/2560370600.py:1: SettingWithCopyWarning: \n",
      "A value is trying to be set on a copy of a slice from a DataFrame.\n",
      "Try using .loc[row_indexer,col_indexer] = value instead\n",
      "\n",
      "See the caveats in the documentation: https://pandas.pydata.org/pandas-docs/stable/user_guide/indexing.html#returning-a-view-versus-a-copy\n",
      "  df_timeStamp['month'] = df_timeStamp['timestamp'].dt.month\n"
     ]
    },
    {
     "data": {
      "text/plain": [
       "7"
      ]
     },
     "execution_count": 14,
     "metadata": {},
     "output_type": "execute_result"
    }
   ],
   "source": [
    "df_timeStamp['month'] = df_timeStamp['timestamp'].dt.month\n",
    "\n",
    "month_counts = df_timeStamp['month'].value_counts()\n",
    "\n",
    "most_common_month = month_counts.index[0]\n",
    "\n",
    "most_common_month"
   ]
  },
  {
   "cell_type": "code",
   "execution_count": 15,
   "id": "25ffe1ec",
   "metadata": {},
   "outputs": [],
   "source": [
    "#July is the most common month"
   ]
  },
  {
   "cell_type": "code",
   "execution_count": 16,
   "id": "2a7963f1",
   "metadata": {},
   "outputs": [],
   "source": [
    "#I think this data is from Youtube watch history. The timestamps are\n",
    "#too far apart to be music, unless Hayden listens to music infrequently.\n",
    "#the amount of instances, 38000, seems possible for youtube videos\n",
    "# watched in a year.\n",
    "\n",
    "#Titles would be helpful in determining the source of the data because\n",
    "#different types of media follow certain titling patterns."
   ]
  },
  {
   "cell_type": "code",
   "execution_count": 17,
   "id": "7672bb36",
   "metadata": {},
   "outputs": [],
   "source": [
    "#My partners analysis seems accurate. They guessed the correct data\n",
    "#source as Spotify."
   ]
  },
  {
   "cell_type": "code",
   "execution_count": 18,
   "id": "d94085d5",
   "metadata": {},
   "outputs": [],
   "source": [
    "#The titles would be helpful in determining what was happening on the\n",
    "#days with the most timestamps because maybe the person was watching\n",
    "#a series on youtube, or studying for an exam through youtube tutors."
   ]
  },
  {
   "cell_type": "code",
   "execution_count": 19,
   "id": "cfdccf54",
   "metadata": {},
   "outputs": [],
   "source": [
    "#I learned that my partner watches a lot of youtube, like me! \n",
    "#I also learned that my partner and I watch similar videos."
   ]
  },
  {
   "cell_type": "markdown",
   "id": "cd14c39a",
   "metadata": {},
   "source": [
    "# Part 3"
   ]
  },
  {
   "cell_type": "code",
   "execution_count": 20,
   "id": "59af9152",
   "metadata": {},
   "outputs": [],
   "source": [
    "#Worked on in Hayden's Jupyter Notebook"
   ]
  },
  {
   "cell_type": "markdown",
   "id": "35f9db75",
   "metadata": {},
   "source": [
    "# Part 4"
   ]
  },
  {
   "cell_type": "code",
   "execution_count": 21,
   "id": "7f556df6",
   "metadata": {},
   "outputs": [
    {
     "data": {
      "text/html": [
       "<div>\n",
       "<style scoped>\n",
       "    .dataframe tbody tr th:only-of-type {\n",
       "        vertical-align: middle;\n",
       "    }\n",
       "\n",
       "    .dataframe tbody tr th {\n",
       "        vertical-align: top;\n",
       "    }\n",
       "\n",
       "    .dataframe thead th {\n",
       "        text-align: right;\n",
       "    }\n",
       "</style>\n",
       "<table border=\"1\" class=\"dataframe\">\n",
       "  <thead>\n",
       "    <tr style=\"text-align: right;\">\n",
       "      <th></th>\n",
       "      <th>endTime</th>\n",
       "      <th>artistName</th>\n",
       "      <th>trackName</th>\n",
       "      <th>msPlayed</th>\n",
       "    </tr>\n",
       "  </thead>\n",
       "  <tbody>\n",
       "    <tr>\n",
       "      <th>0</th>\n",
       "      <td>2023-03-14 22:17</td>\n",
       "      <td>MIMI</td>\n",
       "      <td>Ai no Sukima</td>\n",
       "      <td>13200</td>\n",
       "    </tr>\n",
       "    <tr>\n",
       "      <th>1</th>\n",
       "      <td>2023-03-14 22:17</td>\n",
       "      <td>Volbeat</td>\n",
       "      <td>Ecotone</td>\n",
       "      <td>13250</td>\n",
       "    </tr>\n",
       "    <tr>\n",
       "      <th>2</th>\n",
       "      <td>2023-03-14 22:17</td>\n",
       "      <td>Anri</td>\n",
       "      <td>A HOPE FROM SAD STREET</td>\n",
       "      <td>870</td>\n",
       "    </tr>\n",
       "    <tr>\n",
       "      <th>3</th>\n",
       "      <td>2023-03-14 22:17</td>\n",
       "      <td>SQUARE ENIX MUSIC</td>\n",
       "      <td>Dispossession - Strings Ver.</td>\n",
       "      <td>1250</td>\n",
       "    </tr>\n",
       "    <tr>\n",
       "      <th>4</th>\n",
       "      <td>2023-03-14 22:17</td>\n",
       "      <td>Interlunium</td>\n",
       "      <td>Intergalactic Disco</td>\n",
       "      <td>1240</td>\n",
       "    </tr>\n",
       "    <tr>\n",
       "      <th>...</th>\n",
       "      <td>...</td>\n",
       "      <td>...</td>\n",
       "      <td>...</td>\n",
       "      <td>...</td>\n",
       "    </tr>\n",
       "    <tr>\n",
       "      <th>550</th>\n",
       "      <td>2023-03-15 21:50</td>\n",
       "      <td>Jolianne</td>\n",
       "      <td>Halfway There</td>\n",
       "      <td>1439</td>\n",
       "    </tr>\n",
       "    <tr>\n",
       "      <th>551</th>\n",
       "      <td>2023-03-15 21:50</td>\n",
       "      <td>Tevvez</td>\n",
       "      <td>Legend</td>\n",
       "      <td>835</td>\n",
       "    </tr>\n",
       "    <tr>\n",
       "      <th>552</th>\n",
       "      <td>2023-03-15 21:50</td>\n",
       "      <td>Slowbarry</td>\n",
       "      <td>Мёртвый Внутри</td>\n",
       "      <td>1137</td>\n",
       "    </tr>\n",
       "    <tr>\n",
       "      <th>553</th>\n",
       "      <td>2023-03-15 21:50</td>\n",
       "      <td>Elton John</td>\n",
       "      <td>Goodbye Yellow Brick Road - Remastered 2014</td>\n",
       "      <td>1811</td>\n",
       "    </tr>\n",
       "    <tr>\n",
       "      <th>554</th>\n",
       "      <td>2023-03-15 21:50</td>\n",
       "      <td>ItAllCanWait</td>\n",
       "      <td>Тейватский лесник</td>\n",
       "      <td>1230</td>\n",
       "    </tr>\n",
       "  </tbody>\n",
       "</table>\n",
       "<p>555 rows × 4 columns</p>\n",
       "</div>"
      ],
      "text/plain": [
       "              endTime         artistName  \\\n",
       "0    2023-03-14 22:17               MIMI   \n",
       "1    2023-03-14 22:17            Volbeat   \n",
       "2    2023-03-14 22:17               Anri   \n",
       "3    2023-03-14 22:17  SQUARE ENIX MUSIC   \n",
       "4    2023-03-14 22:17        Interlunium   \n",
       "..                ...                ...   \n",
       "550  2023-03-15 21:50           Jolianne   \n",
       "551  2023-03-15 21:50             Tevvez   \n",
       "552  2023-03-15 21:50          Slowbarry   \n",
       "553  2023-03-15 21:50         Elton John   \n",
       "554  2023-03-15 21:50       ItAllCanWait   \n",
       "\n",
       "                                       trackName  msPlayed  \n",
       "0                                   Ai no Sukima     13200  \n",
       "1                                        Ecotone     13250  \n",
       "2                         A HOPE FROM SAD STREET       870  \n",
       "3                   Dispossession - Strings Ver.      1250  \n",
       "4                            Intergalactic Disco      1240  \n",
       "..                                           ...       ...  \n",
       "550                                Halfway There      1439  \n",
       "551                                       Legend       835  \n",
       "552                               Мёртвый Внутри      1137  \n",
       "553  Goodbye Yellow Brick Road - Remastered 2014      1811  \n",
       "554                            Тейватский лесник      1230  \n",
       "\n",
       "[555 rows x 4 columns]"
      ]
     },
     "execution_count": 21,
     "metadata": {},
     "output_type": "execute_result"
    }
   ],
   "source": [
    "dfC"
   ]
  },
  {
   "cell_type": "code",
   "execution_count": 22,
   "id": "d9dfb562",
   "metadata": {},
   "outputs": [
    {
     "data": {
      "text/html": [
       "<div>\n",
       "<style scoped>\n",
       "    .dataframe tbody tr th:only-of-type {\n",
       "        vertical-align: middle;\n",
       "    }\n",
       "\n",
       "    .dataframe tbody tr th {\n",
       "        vertical-align: top;\n",
       "    }\n",
       "\n",
       "    .dataframe thead th {\n",
       "        text-align: right;\n",
       "    }\n",
       "</style>\n",
       "<table border=\"1\" class=\"dataframe\">\n",
       "  <thead>\n",
       "    <tr style=\"text-align: right;\">\n",
       "      <th></th>\n",
       "      <th>endTime</th>\n",
       "      <th>artistName</th>\n",
       "      <th>trackName</th>\n",
       "      <th>msPlayed</th>\n",
       "    </tr>\n",
       "  </thead>\n",
       "  <tbody>\n",
       "    <tr>\n",
       "      <th>345</th>\n",
       "      <td>2023-03-15 10:10</td>\n",
       "      <td>Ryo Fukui</td>\n",
       "      <td>マイ・フーリッシュ・ハート(Remastered)</td>\n",
       "      <td>0</td>\n",
       "    </tr>\n",
       "    <tr>\n",
       "      <th>308</th>\n",
       "      <td>2023-03-15 05:15</td>\n",
       "      <td>A Boogie Wit da Hoodie</td>\n",
       "      <td>Still Think About You</td>\n",
       "      <td>0</td>\n",
       "    </tr>\n",
       "    <tr>\n",
       "      <th>313</th>\n",
       "      <td>2023-03-15 05:15</td>\n",
       "      <td>A Boogie Wit da Hoodie</td>\n",
       "      <td>Drowning (feat. Kodak Black)</td>\n",
       "      <td>0</td>\n",
       "    </tr>\n",
       "    <tr>\n",
       "      <th>330</th>\n",
       "      <td>2023-03-15 10:10</td>\n",
       "      <td>Pouya</td>\n",
       "      <td>Daddy Issues</td>\n",
       "      <td>0</td>\n",
       "    </tr>\n",
       "    <tr>\n",
       "      <th>357</th>\n",
       "      <td>2023-03-15 10:13</td>\n",
       "      <td>1986 OMEGA TRIBE</td>\n",
       "      <td>Cosmic Love</td>\n",
       "      <td>0</td>\n",
       "    </tr>\n",
       "    <tr>\n",
       "      <th>...</th>\n",
       "      <td>...</td>\n",
       "      <td>...</td>\n",
       "      <td>...</td>\n",
       "      <td>...</td>\n",
       "    </tr>\n",
       "    <tr>\n",
       "      <th>283</th>\n",
       "      <td>2023-03-14 22:57</td>\n",
       "      <td>Marcell</td>\n",
       "      <td>Firasat</td>\n",
       "      <td>247853</td>\n",
       "    </tr>\n",
       "    <tr>\n",
       "      <th>299</th>\n",
       "      <td>2023-03-14 23:13</td>\n",
       "      <td>China Crisis</td>\n",
       "      <td>Wishful Thinking</td>\n",
       "      <td>250706</td>\n",
       "    </tr>\n",
       "    <tr>\n",
       "      <th>500</th>\n",
       "      <td>2023-03-15 21:24</td>\n",
       "      <td>zeinxd</td>\n",
       "      <td>Berserk</td>\n",
       "      <td>257578</td>\n",
       "    </tr>\n",
       "    <tr>\n",
       "      <th>56</th>\n",
       "      <td>2023-03-14 22:29</td>\n",
       "      <td>Ariabl'eyeS</td>\n",
       "      <td>Kegarenaki Barajuuji</td>\n",
       "      <td>265790</td>\n",
       "    </tr>\n",
       "    <tr>\n",
       "      <th>284</th>\n",
       "      <td>2023-03-14 23:02</td>\n",
       "      <td>Engelbert Humperdinck</td>\n",
       "      <td>Alone In The Night</td>\n",
       "      <td>275266</td>\n",
       "    </tr>\n",
       "  </tbody>\n",
       "</table>\n",
       "<p>555 rows × 4 columns</p>\n",
       "</div>"
      ],
      "text/plain": [
       "              endTime              artistName                     trackName  \\\n",
       "345  2023-03-15 10:10               Ryo Fukui     マイ・フーリッシュ・ハート(Remastered)   \n",
       "308  2023-03-15 05:15  A Boogie Wit da Hoodie         Still Think About You   \n",
       "313  2023-03-15 05:15  A Boogie Wit da Hoodie  Drowning (feat. Kodak Black)   \n",
       "330  2023-03-15 10:10                   Pouya                  Daddy Issues   \n",
       "357  2023-03-15 10:13        1986 OMEGA TRIBE                   Cosmic Love   \n",
       "..                ...                     ...                           ...   \n",
       "283  2023-03-14 22:57                 Marcell                       Firasat   \n",
       "299  2023-03-14 23:13            China Crisis              Wishful Thinking   \n",
       "500  2023-03-15 21:24                  zeinxd                       Berserk   \n",
       "56   2023-03-14 22:29             Ariabl'eyeS          Kegarenaki Barajuuji   \n",
       "284  2023-03-14 23:02   Engelbert Humperdinck            Alone In The Night   \n",
       "\n",
       "     msPlayed  \n",
       "345         0  \n",
       "308         0  \n",
       "313         0  \n",
       "330         0  \n",
       "357         0  \n",
       "..        ...  \n",
       "283    247853  \n",
       "299    250706  \n",
       "500    257578  \n",
       "56     265790  \n",
       "284    275266  \n",
       "\n",
       "[555 rows x 4 columns]"
      ]
     },
     "execution_count": 22,
     "metadata": {},
     "output_type": "execute_result"
    }
   ],
   "source": [
    "dfC.sort_values('msPlayed')"
   ]
  },
  {
   "cell_type": "code",
   "execution_count": 23,
   "id": "b824856a",
   "metadata": {},
   "outputs": [
    {
     "data": {
      "text/html": [
       "<div>\n",
       "<style scoped>\n",
       "    .dataframe tbody tr th:only-of-type {\n",
       "        vertical-align: middle;\n",
       "    }\n",
       "\n",
       "    .dataframe tbody tr th {\n",
       "        vertical-align: top;\n",
       "    }\n",
       "\n",
       "    .dataframe thead th {\n",
       "        text-align: right;\n",
       "    }\n",
       "</style>\n",
       "<table border=\"1\" class=\"dataframe\">\n",
       "  <thead>\n",
       "    <tr style=\"text-align: right;\">\n",
       "      <th></th>\n",
       "      <th>endTime</th>\n",
       "      <th>artistName</th>\n",
       "      <th>trackName</th>\n",
       "      <th>msPlayed</th>\n",
       "    </tr>\n",
       "  </thead>\n",
       "  <tbody>\n",
       "    <tr>\n",
       "      <th>395</th>\n",
       "      <td>2023-03-15 10:26</td>\n",
       "      <td>DM DOKURO</td>\n",
       "      <td>Scourge of the Universe</td>\n",
       "      <td>156210</td>\n",
       "    </tr>\n",
       "    <tr>\n",
       "      <th>329</th>\n",
       "      <td>2023-03-15 10:09</td>\n",
       "      <td>Laava</td>\n",
       "      <td>Wherever You Are (I Feel Love) - Dance Edit</td>\n",
       "      <td>165300</td>\n",
       "    </tr>\n",
       "    <tr>\n",
       "      <th>541</th>\n",
       "      <td>2023-03-15 21:49</td>\n",
       "      <td>Orion Sun</td>\n",
       "      <td>without you (interlude)</td>\n",
       "      <td>166045</td>\n",
       "    </tr>\n",
       "    <tr>\n",
       "      <th>423</th>\n",
       "      <td>2023-03-15 10:35</td>\n",
       "      <td>Looking Glass</td>\n",
       "      <td>Sweet Somethin'</td>\n",
       "      <td>168693</td>\n",
       "    </tr>\n",
       "    <tr>\n",
       "      <th>494</th>\n",
       "      <td>2023-03-15 21:11</td>\n",
       "      <td>Da Tweekaz</td>\n",
       "      <td>White Lines</td>\n",
       "      <td>190739</td>\n",
       "    </tr>\n",
       "    <tr>\n",
       "      <th>429</th>\n",
       "      <td>2023-03-15 10:42</td>\n",
       "      <td>Calvin Harris</td>\n",
       "      <td>Blame (feat. John Newman)</td>\n",
       "      <td>191036</td>\n",
       "    </tr>\n",
       "    <tr>\n",
       "      <th>524</th>\n",
       "      <td>2023-03-15 21:39</td>\n",
       "      <td>WHITEFISTS</td>\n",
       "      <td>Shadow Call</td>\n",
       "      <td>197295</td>\n",
       "    </tr>\n",
       "    <tr>\n",
       "      <th>317</th>\n",
       "      <td>2023-03-15 10:03</td>\n",
       "      <td>Yeat</td>\n",
       "      <td>No morë talk</td>\n",
       "      <td>205170</td>\n",
       "    </tr>\n",
       "    <tr>\n",
       "      <th>81</th>\n",
       "      <td>2023-03-14 22:39</td>\n",
       "      <td>slchld</td>\n",
       "      <td>she likes spring, I prefer winter</td>\n",
       "      <td>207436</td>\n",
       "    </tr>\n",
       "    <tr>\n",
       "      <th>54</th>\n",
       "      <td>2023-03-14 22:24</td>\n",
       "      <td>Laica</td>\n",
       "      <td>Close to Me</td>\n",
       "      <td>211746</td>\n",
       "    </tr>\n",
       "    <tr>\n",
       "      <th>496</th>\n",
       "      <td>2023-03-15 21:16</td>\n",
       "      <td>Da Tweekaz</td>\n",
       "      <td>White Lines</td>\n",
       "      <td>225721</td>\n",
       "    </tr>\n",
       "    <tr>\n",
       "      <th>283</th>\n",
       "      <td>2023-03-14 22:57</td>\n",
       "      <td>Marcell</td>\n",
       "      <td>Firasat</td>\n",
       "      <td>247853</td>\n",
       "    </tr>\n",
       "    <tr>\n",
       "      <th>299</th>\n",
       "      <td>2023-03-14 23:13</td>\n",
       "      <td>China Crisis</td>\n",
       "      <td>Wishful Thinking</td>\n",
       "      <td>250706</td>\n",
       "    </tr>\n",
       "    <tr>\n",
       "      <th>500</th>\n",
       "      <td>2023-03-15 21:24</td>\n",
       "      <td>zeinxd</td>\n",
       "      <td>Berserk</td>\n",
       "      <td>257578</td>\n",
       "    </tr>\n",
       "    <tr>\n",
       "      <th>56</th>\n",
       "      <td>2023-03-14 22:29</td>\n",
       "      <td>Ariabl'eyeS</td>\n",
       "      <td>Kegarenaki Barajuuji</td>\n",
       "      <td>265790</td>\n",
       "    </tr>\n",
       "    <tr>\n",
       "      <th>284</th>\n",
       "      <td>2023-03-14 23:02</td>\n",
       "      <td>Engelbert Humperdinck</td>\n",
       "      <td>Alone In The Night</td>\n",
       "      <td>275266</td>\n",
       "    </tr>\n",
       "  </tbody>\n",
       "</table>\n",
       "</div>"
      ],
      "text/plain": [
       "              endTime             artistName  \\\n",
       "395  2023-03-15 10:26              DM DOKURO   \n",
       "329  2023-03-15 10:09                  Laava   \n",
       "541  2023-03-15 21:49              Orion Sun   \n",
       "423  2023-03-15 10:35          Looking Glass   \n",
       "494  2023-03-15 21:11             Da Tweekaz   \n",
       "429  2023-03-15 10:42          Calvin Harris   \n",
       "524  2023-03-15 21:39             WHITEFISTS   \n",
       "317  2023-03-15 10:03                   Yeat   \n",
       "81   2023-03-14 22:39                 slchld   \n",
       "54   2023-03-14 22:24                  Laica   \n",
       "496  2023-03-15 21:16             Da Tweekaz   \n",
       "283  2023-03-14 22:57                Marcell   \n",
       "299  2023-03-14 23:13           China Crisis   \n",
       "500  2023-03-15 21:24                 zeinxd   \n",
       "56   2023-03-14 22:29            Ariabl'eyeS   \n",
       "284  2023-03-14 23:02  Engelbert Humperdinck   \n",
       "\n",
       "                                       trackName  msPlayed  \n",
       "395                      Scourge of the Universe    156210  \n",
       "329  Wherever You Are (I Feel Love) - Dance Edit    165300  \n",
       "541                      without you (interlude)    166045  \n",
       "423                              Sweet Somethin'    168693  \n",
       "494                                  White Lines    190739  \n",
       "429                    Blame (feat. John Newman)    191036  \n",
       "524                                  Shadow Call    197295  \n",
       "317                                 No morë talk    205170  \n",
       "81             she likes spring, I prefer winter    207436  \n",
       "54                                   Close to Me    211746  \n",
       "496                                  White Lines    225721  \n",
       "283                                      Firasat    247853  \n",
       "299                             Wishful Thinking    250706  \n",
       "500                                      Berserk    257578  \n",
       "56                          Kegarenaki Barajuuji    265790  \n",
       "284                           Alone In The Night    275266  "
      ]
     },
     "execution_count": 23,
     "metadata": {},
     "output_type": "execute_result"
    }
   ],
   "source": [
    "df_visual = dfC[dfC['msPlayed']>150000]\n",
    "df_visual.sort_values('msPlayed')"
   ]
  },
  {
   "cell_type": "code",
   "execution_count": 24,
   "id": "59aa20ba",
   "metadata": {},
   "outputs": [
    {
     "data": {
      "text/plain": [
       "<matplotlib.collections.PathCollection at 0x7f17219d6b20>"
      ]
     },
     "execution_count": 24,
     "metadata": {},
     "output_type": "execute_result"
    },
    {
     "data": {
      "image/png": "[encoded data removed]",
      "text/plain": [
       "<Figure size 432x288 with 1 Axes>"
      ]
     },
     "metadata": {
      "needs_background": "light"
     },
     "output_type": "display_data"
    }
   ],
   "source": [
    "plt.scatter(x=df_visual['msPlayed'],y=df_visual['trackName'])"
   ]
  },
  {
   "cell_type": "code",
   "execution_count": 25,
   "id": "d7f1416c",
   "metadata": {},
   "outputs": [],
   "source": [
    "# This Graph shows the songs with the most listen time."
   ]
  },
  {
   "cell_type": "code",
   "execution_count": 26,
   "id": "ea4d3dd7",
   "metadata": {},
   "outputs": [
    {
     "data": {
      "text/plain": [
       "trackName\n",
       "No morë talk                           7\n",
       "G Minor Bach (From \"Piano Tiles 2\")    5\n",
       "Close to Me                            4\n",
       "Arpeggios from Hell                    4\n",
       "TIME WILL TELL                         4\n",
       "                                      ..\n",
       "Icronic                                1\n",
       "I Wanna Know (feat. Bea Miller)        1\n",
       "I REMEMBER CLIFFORD                    1\n",
       "I Can't Sleep 2                        1\n",
       "逆夢                                     1\n",
       "Length: 435, dtype: int64"
      ]
     },
     "execution_count": 26,
     "metadata": {},
     "output_type": "execute_result"
    }
   ],
   "source": [
    "dfC.sort_values('msPlayed')\n",
    "dfC.value_counts(\"trackName\")"
   ]
  },
  {
   "cell_type": "code",
   "execution_count": 27,
   "id": "4b5f72b0",
   "metadata": {},
   "outputs": [
    {
     "name": "stdout",
     "output_type": "stream",
     "text": [
      "There are 7 instances of 'No morë talk'\n",
      "There are 5 instances of 'G Minor Bach (From \"Piano Tiles 2\")'\n",
      "There are 4 instances of 'Arpeggios from Hell'\n",
      "There are 4 instances of 'TIME WILL TELL'\n",
      "There are 4 instances of 'Close to Me'\n",
      "There are 3 instances of 'Ghost'\n",
      "There are 3 instances of 'ガラスのPALM TREE'\n",
      "There are 3 instances of 'Lost in Thoughts All Alone (From \"Fire Emblem Fates\")'\n",
      "There are 3 instances of 'Sunday Vibes'\n",
      "There are 3 instances of 'Jelly Bean'\n",
      "There are 3 instances of 'Meimei Memoria'\n",
      "There are 3 instances of 'Réunion'\n",
      "There are 3 instances of 'Flash Mountain'\n",
      "There are 3 instances of 'Romanesque Romancia'\n",
      "There are 3 instances of 'I Will Survive'\n",
      "There are 3 instances of 'Berserk'\n",
      "There are 3 instances of '5 Pieces, Op. 75, \"The Trees\": No. 3 Aspen'\n",
      "There are 3 instances of 'White Lines'\n",
      "There are 3 instances of 'Sekaiwa Kitto Aiwo Shitterunda'\n",
      "There are 3 instances of 'Stormwater'\n",
      "There are 3 instances of 'HEAVENLY PUNISHMENT'\n",
      "There are 3 instances of 'Hard Cocktail'\n"
     ]
    }
   ],
   "source": [
    "value_counts = dfC['trackName'].value_counts()\n",
    "duplicates = value_counts[value_counts > 2]\n",
    "for trackName, count in duplicates.iteritems():\n",
    "    print(\"There are {} instances of '{}'\".format(count, trackName))"
   ]
  },
  {
   "cell_type": "code",
   "execution_count": 46,
   "id": "5b4d6bf8",
   "metadata": {},
   "outputs": [
    {
     "name": "stderr",
     "output_type": "stream",
     "text": [
      "/usr/lib/python3/dist-packages/matplotlib/backends/backend_agg.py:211: RuntimeWarning: Glyph 12460 missing from current font.\n",
      "  font.set_text(s, 0.0, flags=flags)\n",
      "/usr/lib/python3/dist-packages/matplotlib/backends/backend_agg.py:211: RuntimeWarning: Glyph 12521 missing from current font.\n",
      "  font.set_text(s, 0.0, flags=flags)\n",
      "/usr/lib/python3/dist-packages/matplotlib/backends/backend_agg.py:211: RuntimeWarning: Glyph 12473 missing from current font.\n",
      "  font.set_text(s, 0.0, flags=flags)\n",
      "/usr/lib/python3/dist-packages/matplotlib/backends/backend_agg.py:211: RuntimeWarning: Glyph 12398 missing from current font.\n",
      "  font.set_text(s, 0.0, flags=flags)\n",
      "/usr/lib/python3/dist-packages/matplotlib/backends/backend_agg.py:180: RuntimeWarning: Glyph 12460 missing from current font.\n",
      "  font.set_text(s, 0, flags=flags)\n",
      "/usr/lib/python3/dist-packages/matplotlib/backends/backend_agg.py:180: RuntimeWarning: Glyph 12521 missing from current font.\n",
      "  font.set_text(s, 0, flags=flags)\n",
      "/usr/lib/python3/dist-packages/matplotlib/backends/backend_agg.py:180: RuntimeWarning: Glyph 12473 missing from current font.\n",
      "  font.set_text(s, 0, flags=flags)\n",
      "/usr/lib/python3/dist-packages/matplotlib/backends/backend_agg.py:180: RuntimeWarning: Glyph 12398 missing from current font.\n",
      "  font.set_text(s, 0, flags=flags)\n"
     ]
    },
    {
     "data": {
      "image/png": "[encoded data removed]",
      "text/plain": [
       "<Figure size 432x288 with 1 Axes>"
      ]
     },
     "metadata": {
      "needs_background": "light"
     },
     "output_type": "display_data"
    }
   ],
   "source": [
    "duplicates.plot(kind='barh')\n",
    "\n",
    "plt.title('Number of Plays for Each Song')\n",
    "plt.xlabel('Song Name')\n",
    "plt.ylabel('Number of Times Played')\n",
    "plt.show()"
   ]
  },
  {
   "cell_type": "code",
   "execution_count": 29,
   "id": "ec130c61",
   "metadata": {},
   "outputs": [],
   "source": [
    "# This bar graph displays the songs played that were played the most times.\n",
    "# For the songs that have the same value of plays, they are then ranked by total ms played."
   ]
  },
  {
   "cell_type": "code",
   "execution_count": 48,
   "id": "92722364",
   "metadata": {},
   "outputs": [
    {
     "data": {
      "text/plain": [
       "<matplotlib.axes._subplots.AxesSubplot at 0x7f171bf4b4f0>"
      ]
     },
     "execution_count": 48,
     "metadata": {},
     "output_type": "execute_result"
    },
    {
     "data": {
      "image/png": "[encoded data removed]",
      "text/plain": [
       "<Figure size 432x288 with 1 Axes>"
      ]
     },
     "metadata": {
      "needs_background": "light"
     },
     "output_type": "display_data"
    }
   ],
   "source": [
    "artist_playtime = dfC.groupby('artistName')['msPlayed'].sum()\n",
    "top_10_artists = artist_playtime.nlargest(20)\n",
    "top_10_artists.plot(kind='barh')"
   ]
  },
  {
   "cell_type": "code",
   "execution_count": null,
   "id": "4d736c31",
   "metadata": {},
   "outputs": [],
   "source": [
    "#This graph shows my most listened to artists in terms of ms played."
   ]
  }
 ],
 "metadata": {
  "kernelspec": {
   "display_name": "Python 3 (ipykernel)",
   "language": "python",
   "name": "python3"
  },
  "language_info": {
   "codemirror_mode": {
    "name": "ipython",
    "version": 3
   },
   "file_extension": ".py",
   "mimetype": "text/x-python",
   "name": "python",
   "nbconvert_exporter": "python",
   "pygments_lexer": "ipython3",
   "version": "3.8.10"
  }
 },
 "nbformat": 4,
 "nbformat_minor": 5
}
